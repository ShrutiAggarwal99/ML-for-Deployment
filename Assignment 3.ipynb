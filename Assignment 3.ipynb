{
 "cells": [
  {
   "cell_type": "markdown",
   "metadata": {},
   "source": [
    "# ASSIGNMENT 3"
   ]
  },
  {
   "cell_type": "markdown",
   "metadata": {},
   "source": [
    "## TASK 1"
   ]
  },
  {
   "cell_type": "markdown",
   "metadata": {},
   "source": [
    "### Q 1"
   ]
  },
  {
   "cell_type": "code",
   "execution_count": 1,
   "metadata": {},
   "outputs": [
    {
     "name": "stdout",
     "output_type": "stream",
     "text": [
      "None\n",
      "Error: Divide by zero error\n",
      "None\n"
     ]
    }
   ],
   "source": [
    "def divide(a,b):\n",
    "    try:\n",
    "        result = a/b\n",
    "    except:\n",
    "        print(\"Error: Divide by zero error\")\n",
    "    else:\n",
    "        return \n",
    "    \n",
    "    \n",
    "print(divide(3,4))\n",
    "print(divide(5,0))"
   ]
  },
  {
   "cell_type": "markdown",
   "metadata": {},
   "source": [
    "### Q 2"
   ]
  },
  {
   "cell_type": "code",
   "execution_count": 2,
   "metadata": {},
   "outputs": [
    {
     "data": {
      "text/plain": [
       "['Americans play baseball',\n",
       " 'Americans play cricket',\n",
       " 'Americans watch baseball',\n",
       " 'Americans watch cricket',\n",
       " 'Indians play baseball',\n",
       " 'Indians play cricket',\n",
       " 'Indians watch baseball',\n",
       " 'Indians watch cricket']"
      ]
     },
     "execution_count": 2,
     "metadata": {},
     "output_type": "execute_result"
    }
   ],
   "source": [
    "subjects = [\"Americans\",\"Indians\"]\n",
    "verbs = [\"play\",\"watch\"]\n",
    "objects = [\"baseball\",\"cricket\"]\n",
    "\n",
    "sentences = []\n",
    "for s in subjects:\n",
    "    for v in verbs:\n",
    "        for o in objects:\n",
    "            sentences.append(s + ' ' + v + ' ' +o)\n",
    "            \n",
    "sentences"
   ]
  },
  {
   "cell_type": "markdown",
   "metadata": {},
   "source": [
    "## TASK 2"
   ]
  },
  {
   "cell_type": "markdown",
   "metadata": {},
   "source": [
    "### Q 1"
   ]
  },
  {
   "cell_type": "code",
   "execution_count": 3,
   "metadata": {},
   "outputs": [],
   "source": [
    "import numpy as np\n",
    "def func(iterable,N, increasing):\n",
    "    vanmat = np.array(np.zeros((N,len(iterable))))\n",
    "    for j in range(0,N):\n",
    "        for index,val in enumerate(iterable):\n",
    "            if increasing == True:\n",
    "                vanmat[j][index] = val**j\n",
    "            else: \n",
    "                vanmat[j][index] = val**(N-j-1)\n",
    "    vanmat = np.array(vanmat)\n",
    "    vanmat = vanmat.T\n",
    "    return vanmat"
   ]
  },
  {
   "cell_type": "code",
   "execution_count": 4,
   "metadata": {},
   "outputs": [
    {
     "name": "stdout",
     "output_type": "stream",
     "text": [
      "[[  1.   1.   1.   1.]\n",
      " [  8.   4.   2.   1.]\n",
      " [ 27.   9.   3.   1.]\n",
      " [ 64.  16.   4.   1.]\n",
      " [125.  25.   5.   1.]]\n"
     ]
    }
   ],
   "source": [
    "result = func([1,2,3,4,5],4,False)\n",
    "print(result)"
   ]
  }
 ],
 "metadata": {
  "kernelspec": {
   "display_name": "Python 3",
   "language": "python",
   "name": "python3"
  },
  "language_info": {
   "codemirror_mode": {
    "name": "ipython",
    "version": 3
   },
   "file_extension": ".py",
   "mimetype": "text/x-python",
   "name": "python",
   "nbconvert_exporter": "python",
   "pygments_lexer": "ipython3",
   "version": "3.6.9"
  }
 },
 "nbformat": 4,
 "nbformat_minor": 2
}
