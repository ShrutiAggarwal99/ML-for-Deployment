{
 "cells": [
  {
   "cell_type": "markdown",
   "metadata": {},
   "source": [
    "# ML for deployment Assignment 1 "
   ]
  },
  {
   "cell_type": "markdown",
   "metadata": {},
   "source": [
    "# TASK 1"
   ]
  },
  {
   "cell_type": "code",
   "execution_count": null,
   "metadata": {},
   "outputs": [],
   "source": [
    "for i in range(2000,3200):\n",
    "    if i%5!=0 and i%7==0:\n",
    "        print(i,\",\",end='')"
   ]
  },
  {
   "cell_type": "code",
   "execution_count": null,
   "metadata": {},
   "outputs": [],
   "source": [
    "f_name = input(\"tell me your first name : \")\n",
    "l_name = input(\"tell me your last name : \")\n",
    "print(f_name[::-1]+\" \"+l_name[::-1])"
   ]
  },
  {
   "cell_type": "code",
   "execution_count": null,
   "metadata": {},
   "outputs": [],
   "source": [
    "import numpy as np\n",
    "r = 6\n",
    "vol = (4*np.pi*(r**3))/3\n",
    "print(vol)"
   ]
  },
  {
   "cell_type": "markdown",
   "metadata": {},
   "source": [
    "# TASK 2"
   ]
  },
  {
   "cell_type": "code",
   "execution_count": null,
   "metadata": {},
   "outputs": [],
   "source": [
    "values = input(\"Input some comma separated numbers : \")\n",
    "values = values.split(\",\")\n",
    "print(values)"
   ]
  },
  {
   "cell_type": "code",
   "execution_count": null,
   "metadata": {},
   "outputs": [],
   "source": [
    "word = input(\"tell me a word: \")\n",
    "word = word[::-1]\n",
    "print(word)"
   ]
  },
  {
   "cell_type": "code",
   "execution_count": null,
   "metadata": {},
   "outputs": [],
   "source": [
    "for i in range(1,10):\n",
    "    if i<=5:\n",
    "        for j in range(0,i):\n",
    "            print(\"*\",end='')\n",
    "        print()\n",
    "    else:\n",
    "        for j in range(10-i,0,-1):\n",
    "            print(\"*\",end='')\n",
    "        print()"
   ]
  },
  {
   "cell_type": "code",
   "execution_count": null,
   "metadata": {},
   "outputs": [],
   "source": [
    "str1 = \"WE, THE PEOPLE OF INDIA,\"\n",
    "str2 = \"having solemnly resolved to constitute India into a SOVEREIGN,\"\n",
    "str3 = \"SOCIALIST, SECULAR, DEMOCRATIC REPUBLIC \"\n",
    "str4 = \"and to secure to all its citizens\"\n",
    "\n",
    "print(str1,\"\\n\\t\",str2,\"!\\n\\t\\t\",str3,\"\\n\\t\\t \",str4)\n"
   ]
  },
  {
   "cell_type": "code",
   "execution_count": null,
   "metadata": {},
   "outputs": [],
   "source": []
  }
 ],
 "metadata": {
  "kernelspec": {
   "display_name": "Python 3",
   "language": "python",
   "name": "python3"
  },
  "language_info": {
   "codemirror_mode": {
    "name": "ipython",
    "version": 3
   },
   "file_extension": ".py",
   "mimetype": "text/x-python",
   "name": "python",
   "nbconvert_exporter": "python",
   "pygments_lexer": "ipython3",
   "version": "3.6.9"
  }
 },
 "nbformat": 4,
 "nbformat_minor": 2
}
